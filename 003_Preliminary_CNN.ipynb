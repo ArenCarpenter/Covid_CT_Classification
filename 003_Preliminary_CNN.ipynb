{
 "cells": [
  {
   "cell_type": "code",
   "execution_count": 3,
   "metadata": {},
   "outputs": [],
   "source": [
    "import numpy as np\n",
    "\n",
    "import matplotlib.pyplot as plt\n",
    "%matplotlib inline\n",
    "\n",
    "from PIL import Image\n",
    "\n",
    "from tensorflow.keras.preprocessing import image\n",
    "from tensorflow.keras import models, layers, optimizers\n",
    "\n",
    "import os\n",
    "import gc\n",
    "from timeit import default_timer as timer"
   ]
  },
  {
   "cell_type": "code",
   "execution_count": 1,
   "metadata": {},
   "outputs": [],
   "source": [
    "train_dir = '/Users/arencarpenter/Desktop/Covid_CT_Classification/Split/train'\n",
    "val_dir = '/Users/arencarpenter/Desktop/Covid_CT_Classification/Split/validation'\n",
    "test_dir = '/Users/arencarpenter/Desktop/Covid_CT_Classification/Split/test'"
   ]
  },
  {
   "cell_type": "code",
   "execution_count": 4,
   "metadata": {},
   "outputs": [
    {
     "name": "stdout",
     "output_type": "stream",
     "text": [
      "Found 383 images belonging to 2 classes.\n",
      "Found 83 images belonging to 2 classes.\n",
      "Found 78 images belonging to 2 classes.\n"
     ]
    }
   ],
   "source": [
    "train_img = image.ImageDataGenerator(rescale = 1/255).flow_from_directory(train_dir,\n",
    "                                                                  target_size = (256,256), \n",
    "                                                                  color_mode='grayscale',\n",
    "                                                                  class_mode='binary')\n",
    "val_img = image.ImageDataGenerator(rescale = 1/255).flow_from_directory(val_dir,\n",
    "                                                                target_size = (256,256), \n",
    "                                                                color_mode='grayscale',\n",
    "                                                                class_mode='binary')\n",
    "test_img = image.ImageDataGenerator(rescale = 1/255).flow_from_directory(test_dir,\n",
    "                                                                target_size = (256,256), \n",
    "                                                                color_mode='grayscale',\n",
    "                                                                class_mode='binary')"
   ]
  },
  {
   "cell_type": "markdown",
   "metadata": {},
   "source": [
    "## Baseline CNN: 2 Conv2D, 1 Dense"
   ]
  },
  {
   "cell_type": "code",
   "execution_count": 5,
   "metadata": {},
   "outputs": [],
   "source": [
    "# model fit\n",
    "model = models.Sequential()\n",
    "model.add(layers.Conv2D(32, 3, activation = 'relu', input_shape=(256, 256, 1)))\n",
    "model.add(layers.MaxPooling2D((2, 2)))\n",
    "model.add(layers.Conv2D(64, 3, activation = 'relu'))\n",
    "model.add(layers.MaxPooling2D((2, 2)))\n",
    "model.add(layers.Flatten())\n",
    "model.add(layers.Dense(256, activation = 'relu'))\n",
    "model.add(layers.Dense(1, activation='sigmoid'))"
   ]
  },
  {
   "cell_type": "code",
   "execution_count": 6,
   "metadata": {},
   "outputs": [],
   "source": [
    "# compiling models\n",
    "model.compile(loss='binary_crossentropy',\n",
    "              optimizer=optimizers.RMSprop(),\n",
    "              metrics=['accuracy', 'Recall', 'Precision'])"
   ]
  },
  {
   "cell_type": "code",
   "execution_count": 7,
   "metadata": {},
   "outputs": [
    {
     "name": "stdout",
     "output_type": "stream",
     "text": [
      "Epoch 1/20\n",
      "12/12 [==============================] - 14s 1s/step - loss: 11.8517 - accuracy: 0.6632 - recall: 0.4348 - precision: 0.5405 - val_loss: 0.3763 - val_accuracy: 0.8193 - val_recall: 0.5333 - val_precision: 0.9412\n",
      "Epoch 2/20\n",
      "12/12 [==============================] - 14s 1s/step - loss: 0.3403 - accuracy: 0.8538 - recall: 0.6957 - precision: 0.8727 - val_loss: 0.7229 - val_accuracy: 0.5904 - val_recall: 0.9667 - val_precision: 0.4677\n",
      "Epoch 3/20\n",
      "12/12 [==============================] - 15s 1s/step - loss: 0.3330 - accuracy: 0.8616 - recall: 0.7899 - precision: 0.8195 - val_loss: 0.5430 - val_accuracy: 0.6627 - val_recall: 0.9667 - val_precision: 0.5179\n",
      "Epoch 4/20\n",
      "12/12 [==============================] - 15s 1s/step - loss: 0.1784 - accuracy: 0.9399 - recall: 0.9348 - precision: 0.9021 - val_loss: 0.3760 - val_accuracy: 0.8072 - val_recall: 0.5667 - val_precision: 0.8500\n",
      "Epoch 5/20\n",
      "12/12 [==============================] - 15s 1s/step - loss: 0.1011 - accuracy: 0.9634 - recall: 0.9565 - precision: 0.9429 - val_loss: 0.2891 - val_accuracy: 0.8916 - val_recall: 0.8333 - val_precision: 0.8621\n",
      "Epoch 6/20\n",
      "12/12 [==============================] - 15s 1s/step - loss: 0.3506 - accuracy: 0.8930 - recall: 0.8841 - precision: 0.8299 - val_loss: 0.3653 - val_accuracy: 0.8193 - val_recall: 0.9000 - val_precision: 0.6923\n",
      "Epoch 7/20\n",
      "12/12 [==============================] - 15s 1s/step - loss: 0.2347 - accuracy: 0.9321 - recall: 0.8986 - precision: 0.9118 - val_loss: 0.3854 - val_accuracy: 0.7952 - val_recall: 0.7000 - val_precision: 0.7241\n",
      "Epoch 8/20\n",
      "12/12 [==============================] - 14s 1s/step - loss: 0.0203 - accuracy: 0.9948 - recall: 1.0000 - precision: 0.9857 - val_loss: 0.4628 - val_accuracy: 0.8193 - val_recall: 0.7000 - val_precision: 0.7778\n",
      "Epoch 9/20\n",
      "12/12 [==============================] - 15s 1s/step - loss: 0.0071 - accuracy: 0.9974 - recall: 1.0000 - precision: 0.9928 - val_loss: 0.4560 - val_accuracy: 0.7952 - val_recall: 0.7333 - val_precision: 0.7097\n",
      "Epoch 10/20\n",
      "12/12 [==============================] - 14s 1s/step - loss: 0.0021 - accuracy: 1.0000 - recall: 1.0000 - precision: 1.0000 - val_loss: 0.5303 - val_accuracy: 0.8313 - val_recall: 0.7000 - val_precision: 0.8077\n",
      "Epoch 11/20\n",
      "12/12 [==============================] - 15s 1s/step - loss: 8.1624e-04 - accuracy: 1.0000 - recall: 1.0000 - precision: 1.0000 - val_loss: 0.5472 - val_accuracy: 0.8193 - val_recall: 0.7333 - val_precision: 0.7586\n",
      "Epoch 12/20\n",
      "12/12 [==============================] - 17s 1s/step - loss: 2.3072e-04 - accuracy: 1.0000 - recall: 1.0000 - precision: 1.0000 - val_loss: 0.5965 - val_accuracy: 0.8313 - val_recall: 0.7000 - val_precision: 0.8077\n",
      "Epoch 13/20\n",
      "12/12 [==============================] - 15s 1s/step - loss: 1.2172e-04 - accuracy: 1.0000 - recall: 1.0000 - precision: 1.0000 - val_loss: 0.6573 - val_accuracy: 0.8434 - val_recall: 0.7000 - val_precision: 0.8400\n",
      "Epoch 14/20\n",
      "12/12 [==============================] - 15s 1s/step - loss: 5.1597e-05 - accuracy: 1.0000 - recall: 1.0000 - precision: 1.0000 - val_loss: 0.6409 - val_accuracy: 0.8193 - val_recall: 0.7333 - val_precision: 0.7586\n",
      "Epoch 15/20\n",
      "12/12 [==============================] - 15s 1s/step - loss: 2.3792e-05 - accuracy: 1.0000 - recall: 1.0000 - precision: 1.0000 - val_loss: 0.6757 - val_accuracy: 0.7831 - val_recall: 0.7333 - val_precision: 0.6875\n",
      "Epoch 16/20\n",
      "12/12 [==============================] - 16s 1s/step - loss: 1.9186e-05 - accuracy: 1.0000 - recall: 1.0000 - precision: 1.0000 - val_loss: 0.7489 - val_accuracy: 0.7831 - val_recall: 0.7333 - val_precision: 0.6875\n",
      "Epoch 17/20\n",
      "12/12 [==============================] - 15s 1s/step - loss: 6.9284e-06 - accuracy: 1.0000 - recall: 1.0000 - precision: 1.0000 - val_loss: 0.7776 - val_accuracy: 0.7831 - val_recall: 0.7333 - val_precision: 0.6875\n",
      "Epoch 18/20\n",
      "12/12 [==============================] - 15s 1s/step - loss: 3.3798e-06 - accuracy: 1.0000 - recall: 1.0000 - precision: 1.0000 - val_loss: 0.8121 - val_accuracy: 0.7831 - val_recall: 0.7333 - val_precision: 0.6875\n",
      "Epoch 19/20\n",
      "12/12 [==============================] - 15s 1s/step - loss: 2.2012e-06 - accuracy: 1.0000 - recall: 1.0000 - precision: 1.0000 - val_loss: 0.8320 - val_accuracy: 0.7952 - val_recall: 0.7667 - val_precision: 0.6970\n",
      "Epoch 20/20\n",
      "12/12 [==============================] - 15s 1s/step - loss: 1.3098e-06 - accuracy: 1.0000 - recall: 1.0000 - precision: 1.0000 - val_loss: 0.8533 - val_accuracy: 0.7952 - val_recall: 0.7333 - val_precision: 0.7097\n",
      "Total Time Elapsed:  5  minutes  32  seconds\n"
     ]
    }
   ],
   "source": [
    "# training\n",
    "start = timer()\n",
    "history_baseline = model.fit(train_img, \n",
    "                    epochs=20, \n",
    "                    validation_data=val_img, \n",
    "                    workers = 7)\n",
    "end = timer()\n",
    "elapsed = end - start\n",
    "print('Total Time Elapsed: ', int(elapsed//60), ' minutes ', (round(elapsed%60)), ' seconds')"
   ]
  },
  {
   "cell_type": "code",
   "execution_count": 9,
   "metadata": {},
   "outputs": [
    {
     "name": "stdout",
     "output_type": "stream",
     "text": [
      "3/3 [==============================] - 0s 139ms/step - loss: 0.7861 - accuracy: 0.8333 - recall: 0.7778 - precision: 0.7500\n"
     ]
    }
   ],
   "source": [
    "scores = model.evaluate(test_img, verbose=1)"
   ]
  },
  {
   "cell_type": "markdown",
   "metadata": {},
   "source": [
    "Not bad for a first model with some default hyperparameters. Twenty epochs with this small of a dataset led to overfitting fairly quickly. \n",
    "\n",
    "Result: Val_Acc -- 79.5, Val_Loss -- 0.853\n",
    "\n",
    "Next steps: augment data to generate more data to combat overfitting."
   ]
  },
  {
   "cell_type": "code",
   "execution_count": 14,
   "metadata": {},
   "outputs": [],
   "source": [
    "# plot performance\n",
    "def plot_performance(hist):\n",
    "    hist_ = hist.history\n",
    "    epochs = hist.epoch\n",
    "\n",
    "    plt.plot(epochs, hist_['accuracy'], label='Training Accuracy')\n",
    "    plt.plot(epochs, hist_['val_accuracy'], label='Validation Accuracy')\n",
    "    plt.title('Training and validation accuracy')\n",
    "    plt.legend()\n",
    "    \n",
    "    plt.figure()\n",
    "    plt.plot(epochs, hist_['loss'], label='Training loss')\n",
    "    plt.plot(epochs, hist_['val_loss'], label='Validation loss')\n",
    "    plt.title('Training and validation loss')\n",
    "    plt.legend()\n",
    "    \n",
    "    plt.show()"
   ]
  },
  {
   "cell_type": "code",
   "execution_count": 15,
   "metadata": {},
   "outputs": [
    {
     "data": {
      "image/png": "[encoded data removed]",
      "text/plain": [
       "<Figure size 432x288 with 1 Axes>"
      ]
     },
     "metadata": {
      "needs_background": "light"
     },
     "output_type": "display_data"
    },
    {
     "data": {
      "image/png": "[encoded data removed]",
      "text/plain": [
       "<Figure size 432x288 with 1 Axes>"
      ]
     },
     "metadata": {
      "needs_background": "light"
     },
     "output_type": "display_data"
    }
   ],
   "source": [
    "plot_performance(history_baseline)"
   ]
  },
  {
   "cell_type": "code",
   "execution_count": null,
   "metadata": {},
   "outputs": [],
   "source": []
  }
 ],
 "metadata": {
  "kernelspec": {
   "display_name": "Python 3",
   "language": "python",
   "name": "python3"
  },
  "language_info": {
   "codemirror_mode": {
    "name": "ipython",
    "version": 3
   },
   "file_extension": ".py",
   "mimetype": "text/x-python",
   "name": "python",
   "nbconvert_exporter": "python",
   "pygments_lexer": "ipython3",
   "version": "3.7.6"
  }
 },
 "nbformat": 4,
 "nbformat_minor": 4
}
