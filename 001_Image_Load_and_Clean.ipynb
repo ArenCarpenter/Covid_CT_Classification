{
 "cells": [
  {
   "cell_type": "markdown",
   "metadata": {},
   "source": [
    "### File 001_Image_Load_and_Clean"
   ]
  },
  {
   "cell_type": "code",
   "execution_count": 19,
   "metadata": {},
   "outputs": [],
   "source": [
    "import os, shutil\n",
    "import numpy as np\n",
    "import tensorflow as tf"
   ]
  },
  {
   "cell_type": "code",
   "execution_count": 9,
   "metadata": {},
   "outputs": [],
   "source": [
    "covid_dir = '/Users/arencarpenter/Desktop/Covid_CT_Classification/Data/CT_COVID/'\n",
    "not_covid_dir = '/Users/arencarpenter/Desktop/Covid_CT_Classification/Data/CT_NonCOVID/'\n",
    "new_dir = 'Split/'"
   ]
  },
  {
   "cell_type": "code",
   "execution_count": 4,
   "metadata": {},
   "outputs": [],
   "source": [
    "covid_imgs = [file for file in os.listdir(covid_dir) if file.endswith('.png')]\n",
    "not_covid_imgs = [file for file in os.listdir(not_covid_dir) if file.endswith('.png')]"
   ]
  },
  {
   "cell_type": "code",
   "execution_count": 5,
   "metadata": {},
   "outputs": [
    {
     "name": "stdout",
     "output_type": "stream",
     "text": [
      "Number of Covid Images:  349\n",
      "Number of NonCovid Images:  195\n"
     ]
    }
   ],
   "source": [
    "print(\"Number of Covid Images: \", len(covid_imgs))\n",
    "print(\"Number of NonCovid Images: \", len(not_covid_imgs))"
   ]
  },
  {
   "cell_type": "code",
   "execution_count": null,
   "metadata": {},
   "outputs": [],
   "source": [
    "os.mkdir(new_dir)"
   ]
  },
  {
   "cell_type": "code",
   "execution_count": 11,
   "metadata": {},
   "outputs": [],
   "source": [
    "train_folder = os.path.join(new_dir, 'train')\n",
    "train_covid = os.path.join(train_folder, 'covid')\n",
    "train_not_covid = os.path.join(train_folder, 'not_covid')\n",
    "\n",
    "test_folder = os.path.join(new_dir, 'test')\n",
    "test_covid = os.path.join(test_folder, 'covid')\n",
    "test_not_covid = os.path.join(test_folder, 'not_covid')\n",
    "\n",
    "val_folder = os.path.join(new_dir, 'validation')\n",
    "val_covid = os.path.join(val_folder, 'covid')\n",
    "val_not_covid = os.path.join(val_folder, 'not_covid')"
   ]
  },
  {
   "cell_type": "code",
   "execution_count": 12,
   "metadata": {},
   "outputs": [],
   "source": [
    "os.mkdir(test_folder)\n",
    "os.mkdir(test_covid)\n",
    "os.mkdir(test_not_covid)\n",
    "\n",
    "os.mkdir(train_folder)\n",
    "os.mkdir(train_covid)\n",
    "os.mkdir(train_not_covid)\n",
    "\n",
    "os.mkdir(val_folder)\n",
    "os.mkdir(val_covid)\n",
    "os.mkdir(val_not_covid)"
   ]
  },
  {
   "cell_type": "code",
   "execution_count": 21,
   "metadata": {},
   "outputs": [],
   "source": [
    "# train santa\n",
    "imgs = covid_imgs[0:245]\n",
    "for img in imgs:\n",
    "    origin = os.path.join(covid_dir, img)\n",
    "    destination = os.path.join(train_covid, img)\n",
    "    shutil.copyfile(origin, destination)"
   ]
  },
  {
   "cell_type": "code",
   "execution_count": 22,
   "metadata": {},
   "outputs": [],
   "source": [
    "# validation santa\n",
    "imgs = covid_imgs[245:298]\n",
    "for img in imgs:\n",
    "    origin = os.path.join(covid_dir, img)\n",
    "    destination = os.path.join(val_covid, img)\n",
    "    shutil.copyfile(origin, destination)"
   ]
  },
  {
   "cell_type": "code",
   "execution_count": 23,
   "metadata": {},
   "outputs": [],
   "source": [
    "# test santa\n",
    "imgs = covid_imgs[298:]\n",
    "for img in imgs:\n",
    "    origin = os.path.join(covid_dir, img)\n",
    "    destination = os.path.join(test_covid, img)\n",
    "    shutil.copyfile(origin, destination)"
   ]
  },
  {
   "cell_type": "code",
   "execution_count": 24,
   "metadata": {},
   "outputs": [],
   "source": [
    "# train not_santa\n",
    "imgs = not_covid_imgs[:138]\n",
    "for img in imgs:\n",
    "    origin = os.path.join(not_covid_dir, img)\n",
    "    destination = os.path.join(train_not_covid, img)\n",
    "    shutil.copyfile(origin, destination)\n",
    "\n",
    "# validation not_santa\n",
    "imgs = not_covid_imgs[138:168]\n",
    "for img in imgs:\n",
    "    origin = os.path.join(not_covid_dir, img)\n",
    "    destination = os.path.join(val_not_covid, img)\n",
    "    shutil.copyfile(origin, destination)\n",
    "\n",
    "# test not_santa\n",
    "imgs = not_covid_imgs[168:]\n",
    "for img in imgs:\n",
    "    origin = os.path.join(not_covid_dir, img)\n",
    "    destination = os.path.join(test_not_covid, img)\n",
    "    shutil.copyfile(origin, destination)"
   ]
  },
  {
   "cell_type": "code",
   "execution_count": 17,
   "metadata": {},
   "outputs": [],
   "source": [
    "train_dir = '/Users/arencarpenter/Desktop/Covid_CT_Classification/Split/train'\n",
    "val_dir = '/Users/arencarpenter/Desktop/Covid_CT_Classification/Split/validation'\n",
    "test_dir = '/Users/arencarpenter/Desktop/Covid_CT_Classification/Split/test'"
   ]
  },
  {
   "cell_type": "code",
   "execution_count": null,
   "metadata": {},
   "outputs": [],
   "source": [
    "print('There are', len(os.listdir(train_covid)), 'covid images in the training set')\n",
    "print('There are', len(os.listdir(train_not_covid)), 'non-covid images in the training set')\n",
    "\n",
    "print('There are', len(os.listdir(test_covid)), 'covid images in the testing set')\n",
    "print('There are', len(os.listdir(test_not_covid)), 'non-covid images in the testing set')\n",
    "\n",
    "print('There are', len(os.listdir(val_covid)), 'covid images in the validation set')\n",
    "print('There are', len(os.listdir(val_not_covid)), 'non-covid images in the validation set')"
   ]
  },
  {
   "cell_type": "code",
   "execution_count": null,
   "metadata": {},
   "outputs": [],
   "source": []
  }
 ],
 "metadata": {
  "kernelspec": {
   "display_name": "Python 3",
   "language": "python",
   "name": "python3"
  },
  "language_info": {
   "codemirror_mode": {
    "name": "ipython",
    "version": 3
   },
   "file_extension": ".py",
   "mimetype": "text/x-python",
   "name": "python",
   "nbconvert_exporter": "python",
   "pygments_lexer": "ipython3",
   "version": "3.7.6"
  }
 },
 "nbformat": 4,
 "nbformat_minor": 4
}
